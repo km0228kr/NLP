{
  "cells": [
    {
      "cell_type": "code",
      "execution_count": null,
      "metadata": {
        "colab": {
          "base_uri": "https://localhost:8080/"
        },
        "id": "5N3BjnCrPXwd",
        "outputId": "c1e5f45c-4eeb-4433-bdfc-5b597bc80da6"
      },
      "outputs": [
        {
          "output_type": "stream",
          "name": "stdout",
          "text": [
            "pip 23.0.1 from /usr/local/lib/python3.9/dist-packages/pip (python 3.9)\n"
          ]
        }
      ],
      "source": [
        "!pip --version"
      ]
    },
    {
      "cell_type": "code",
      "execution_count": null,
      "metadata": {
        "colab": {
          "base_uri": "https://localhost:8080/"
        },
        "id": "3qJ1lhDtQAYQ",
        "outputId": "0fecbb7c-4844-4758-8904-0970f33e9794"
      },
      "outputs": [
        {
          "output_type": "stream",
          "name": "stdout",
          "text": [
            "Looking in indexes: https://pypi.org/simple, https://us-python.pkg.dev/colab-wheels/public/simple/\n",
            "Requirement already satisfied: pip in /usr/local/lib/python3.9/dist-packages (22.0.4)\n",
            "Collecting pip\n",
            "  Downloading pip-23.0.1-py3-none-any.whl (2.1 MB)\n",
            "\u001b[2K     \u001b[90m━━━━━━━━━━━━━━━━━━━━━━━━━━━━━━━━━━━━━━━━\u001b[0m \u001b[32m2.1/2.1 MB\u001b[0m \u001b[31m12.9 MB/s\u001b[0m eta \u001b[36m0:00:00\u001b[0m\n",
            "\u001b[?25hInstalling collected packages: pip\n",
            "  Attempting uninstall: pip\n",
            "    Found existing installation: pip 22.0.4\n",
            "    Uninstalling pip-22.0.4:\n",
            "      Successfully uninstalled pip-22.0.4\n",
            "Successfully installed pip-23.0.1\n"
          ]
        }
      ],
      "source": [
        "!pip install --upgrade pip"
      ]
    },
    {
      "cell_type": "code",
      "execution_count": null,
      "metadata": {
        "colab": {
          "base_uri": "https://localhost:8080/"
        },
        "id": "kKpWcZcMPACh",
        "outputId": "a1ea715e-6cde-4091-cff7-318e2e1b638a"
      },
      "outputs": [
        {
          "output_type": "stream",
          "name": "stdout",
          "text": [
            "Looking in indexes: https://pypi.org/simple, https://us-python.pkg.dev/colab-wheels/public/simple/\n",
            "Collecting git+https://github.com/kakaobrain/pororo.git\n",
            "  Cloning https://github.com/kakaobrain/pororo.git to /tmp/pip-req-build-2xmmtx0l\n",
            "  Running command git clone --filter=blob:none --quiet https://github.com/kakaobrain/pororo.git /tmp/pip-req-build-2xmmtx0l\n",
            "  Resolved https://github.com/kakaobrain/pororo.git to commit 7d05a75e8062b00e6b65364b8ec6c52b6293ab07\n",
            "  Preparing metadata (setup.py) ... \u001b[?25l\u001b[?25hdone\n",
            "\u001b[31mERROR: Could not find a version that satisfies the requirement torch==1.6.0 (from pororo) (from versions: 1.7.1, 1.8.0, 1.8.1, 1.9.0, 1.9.1, 1.10.0, 1.10.1, 1.10.2, 1.11.0, 1.12.0, 1.12.1, 1.13.0, 1.13.1, 2.0.0)\u001b[0m\u001b[31m\n",
            "\u001b[0m\u001b[31mERROR: No matching distribution found for torch==1.6.0\u001b[0m\u001b[31m\n",
            "\u001b[0m"
          ]
        }
      ],
      "source": [
        "# Pororo 설치\n",
        "!pip install git+https://github.com/kakaobrain/pororo.git"
      ]
    },
    {
      "cell_type": "code",
      "execution_count": null,
      "metadata": {
        "colab": {
          "base_uri": "https://localhost:8080/"
        },
        "id": "86vewwp9Q3TS",
        "outputId": "49f39ebb-f6ac-4780-fd10-67cb5a34dfa8",
        "scrolled": true
      },
      "outputs": [
        {
          "output_type": "stream",
          "name": "stdout",
          "text": [
            "Cloning into 'pororo'...\n",
            "remote: Enumerating objects: 2119, done.\u001b[K\n",
            "remote: Counting objects:   3% (1/29)\u001b[K\rremote: Counting objects:   6% (2/29)\u001b[K\rremote: Counting objects:  10% (3/29)\u001b[K\rremote: Counting objects:  13% (4/29)\u001b[K\rremote: Counting objects:  17% (5/29)\u001b[K\rremote: Counting objects:  20% (6/29)\u001b[K\rremote: Counting objects:  24% (7/29)\u001b[K\rremote: Counting objects:  27% (8/29)\u001b[K\rremote: Counting objects:  31% (9/29)\u001b[K\rremote: Counting objects:  34% (10/29)\u001b[K\rremote: Counting objects:  37% (11/29)\u001b[K\rremote: Counting objects:  41% (12/29)\u001b[K\rremote: Counting objects:  44% (13/29)\u001b[K\rremote: Counting objects:  48% (14/29)\u001b[K\rremote: Counting objects:  51% (15/29)\u001b[K\rremote: Counting objects:  55% (16/29)\u001b[K\rremote: Counting objects:  58% (17/29)\u001b[K\rremote: Counting objects:  62% (18/29)\u001b[K\rremote: Counting objects:  65% (19/29)\u001b[K\rremote: Counting objects:  68% (20/29)\u001b[K\rremote: Counting objects:  72% (21/29)\u001b[K\rremote: Counting objects:  75% (22/29)\u001b[K\rremote: Counting objects:  79% (23/29)\u001b[K\rremote: Counting objects:  82% (24/29)\u001b[K\rremote: Counting objects:  86% (25/29)\u001b[K\rremote: Counting objects:  89% (26/29)\u001b[K\rremote: Counting objects:  93% (27/29)\u001b[K\rremote: Counting objects:  96% (28/29)\u001b[K\rremote: Counting objects: 100% (29/29)\u001b[K\rremote: Counting objects: 100% (29/29), done.\u001b[K\n",
            "remote: Compressing objects: 100% (21/21), done.\u001b[K\n",
            "remote: Total 2119 (delta 11), reused 22 (delta 8), pack-reused 2090\u001b[K\n",
            "Receiving objects: 100% (2119/2119), 13.09 MiB | 26.34 MiB/s, done.\n",
            "Resolving deltas: 100% (1448/1448), done.\n"
          ]
        }
      ],
      "source": [
        "!git clone https://github.com/kakaobrain/pororo.git"
      ]
    },
    {
      "cell_type": "markdown",
      "source": [],
      "metadata": {
        "id": "uv7DOhuGq96k"
      }
    },
    {
      "cell_type": "code",
      "execution_count": null,
      "metadata": {
        "colab": {
          "base_uri": "https://localhost:8080/"
        },
        "id": "Gc2zDKc4Q5i5",
        "outputId": "2a8ab73a-2b5d-4700-cb0b-17673ee2e325"
      },
      "outputs": [
        {
          "output_type": "stream",
          "name": "stdout",
          "text": [
            "\u001b[0m\u001b[01;34mpororo\u001b[0m/  \u001b[01;34msample_data\u001b[0m/\n"
          ]
        }
      ],
      "source": [
        "ls"
      ]
    },
    {
      "cell_type": "code",
      "execution_count": null,
      "metadata": {
        "colab": {
          "base_uri": "https://localhost:8080/"
        },
        "id": "GweBo7_LQ7yA",
        "outputId": "73abafce-e685-4894-89c7-ab9be974fa9f"
      },
      "outputs": [
        {
          "output_type": "stream",
          "name": "stdout",
          "text": [
            "/content/pororo/pororo/pororo/pororo\n"
          ]
        }
      ],
      "source": [
        "cd pororo"
      ]
    },
    {
      "cell_type": "code",
      "execution_count": null,
      "metadata": {
        "colab": {
          "base_uri": "https://localhost:8080/"
        },
        "id": "cNrkDYFGQ8f1",
        "outputId": "a720f112-32f0-4d14-b12d-5b01779f01e7"
      },
      "outputs": [
        {
          "output_type": "stream",
          "name": "stdout",
          "text": [
            "Looking in indexes: https://pypi.org/simple, https://us-python.pkg.dev/colab-wheels/public/simple/\n",
            "Obtaining file:///content/pororo/pororo/pororo/pororo\n",
            "\u001b[31mERROR: file:///content/pororo/pororo/pororo/pororo does not appear to be a Python project: neither 'setup.py' nor 'pyproject.toml' found.\u001b[0m\u001b[31m\n",
            "\u001b[0m"
          ]
        }
      ],
      "source": [
        "!pip install -e ."
      ]
    },
    {
      "cell_type": "code",
      "source": [
        "!pip install pororo"
      ],
      "metadata": {
        "colab": {
          "base_uri": "https://localhost:8080/"
        },
        "id": "uGDGT_qtf-Ck",
        "outputId": "a2b9c4df-b560-4093-d4ba-d7086f8a8b9d"
      },
      "execution_count": null,
      "outputs": [
        {
          "output_type": "stream",
          "name": "stdout",
          "text": [
            "Looking in indexes: https://pypi.org/simple, https://us-python.pkg.dev/colab-wheels/public/simple/\n",
            "Collecting pororo\n",
            "  Using cached pororo-0.4.2-py3-none-any.whl (256 kB)\n",
            "Requirement already satisfied: g2p-en in /usr/local/lib/python3.9/dist-packages (from pororo) (2.1.0)\n",
            "Requirement already satisfied: sentence-transformers>=0.4.1.2 in /usr/local/lib/python3.9/dist-packages (from pororo) (0.4.1.2)\n",
            "Requirement already satisfied: whoosh in /usr/local/lib/python3.9/dist-packages (from pororo) (2.7.4)\n",
            "Requirement already satisfied: wget in /usr/local/lib/python3.9/dist-packages (from pororo) (3.2)\n",
            "Requirement already satisfied: marisa-trie in /usr/local/lib/python3.9/dist-packages (from pororo) (0.8.0)\n",
            "Requirement already satisfied: lxml in /usr/local/lib/python3.9/dist-packages (from pororo) (4.9.2)\n",
            "Collecting fairseq>=0.10.2\n",
            "  Using cached fairseq-0.12.2.tar.gz (9.6 MB)\n",
            "  Installing build dependencies ... \u001b[?25l\u001b[?25hdone\n",
            "  Getting requirements to build wheel ... \u001b[?25l\u001b[?25hdone\n",
            "  Installing backend dependencies ... \u001b[?25l\u001b[?25hdone\n",
            "  Preparing metadata (pyproject.toml) ... \u001b[?25l\u001b[?25hdone\n",
            "Requirement already satisfied: nltk>=3.5 in /usr/local/lib/python3.9/dist-packages (from pororo) (3.5)\n",
            "Requirement already satisfied: kss in /usr/local/lib/python3.9/dist-packages (from pororo) (4.5.1)\n",
            "Collecting pororo\n",
            "  Using cached pororo-0.4.1-py3-none-any.whl (253 kB)\n",
            "  Using cached pororo-0.4.0-py3-none-any.whl (253 kB)\n",
            "  Using cached pororo-0.3.5-py3-none-any.whl (253 kB)\n",
            "  Using cached pororo-0.3.4-py3-none-any.whl (216 kB)\n",
            "  Using cached pororo-0.3.3-py3-none-any.whl (215 kB)\n",
            "  Using cached pororo-0.3.2-py3-none-any.whl (212 kB)\n",
            "  Using cached pororo-0.3.1-py3-none-any.whl (211 kB)\n",
            "Collecting fairseq==0.10.2\n",
            "  Using cached fairseq-0.10.2.tar.gz (938 kB)\n",
            "  Installing build dependencies ... \u001b[?25l\u001b[?25hdone\n",
            "  \u001b[1;31merror\u001b[0m: \u001b[1msubprocess-exited-with-error\u001b[0m\n",
            "  \n",
            "  \u001b[31m×\u001b[0m \u001b[32mGetting requirements to build wheel\u001b[0m did not run successfully.\n",
            "  \u001b[31m│\u001b[0m exit code: \u001b[1;36m1\u001b[0m\n",
            "  \u001b[31m╰─>\u001b[0m See above for output.\n",
            "  \n",
            "  \u001b[1;35mnote\u001b[0m: This error originates from a subprocess, and is likely not a problem with pip.\n",
            "  Getting requirements to build wheel ... \u001b[?25l\u001b[?25herror\n",
            "\u001b[1;31merror\u001b[0m: \u001b[1msubprocess-exited-with-error\u001b[0m\n",
            "\n",
            "\u001b[31m×\u001b[0m \u001b[32mGetting requirements to build wheel\u001b[0m did not run successfully.\n",
            "\u001b[31m│\u001b[0m exit code: \u001b[1;36m1\u001b[0m\n",
            "\u001b[31m╰─>\u001b[0m See above for output.\n",
            "\n",
            "\u001b[1;35mnote\u001b[0m: This error originates from a subprocess, and is likely not a problem with pip.\n"
          ]
        }
      ]
    },
    {
      "cell_type": "code",
      "execution_count": null,
      "metadata": {
        "id": "y37D23qMQ9ct",
        "colab": {
          "base_uri": "https://localhost:8080/",
          "height": 321
        },
        "outputId": "9dbe55cc-c456-4b59-c06d-56dddc9c6998"
      },
      "outputs": [
        {
          "output_type": "error",
          "ename": "ModuleNotFoundError",
          "evalue": "ignored",
          "traceback": [
            "\u001b[0;31m---------------------------------------------------------------------------\u001b[0m",
            "\u001b[0;31mModuleNotFoundError\u001b[0m                       Traceback (most recent call last)",
            "\u001b[0;32m<ipython-input-1-aee0eea85565>\u001b[0m in \u001b[0;36m<cell line: 1>\u001b[0;34m()\u001b[0m\n\u001b[0;32m----> 1\u001b[0;31m \u001b[0;32mfrom\u001b[0m \u001b[0mpororo\u001b[0m \u001b[0;32mimport\u001b[0m \u001b[0mPororo\u001b[0m\u001b[0;34m\u001b[0m\u001b[0;34m\u001b[0m\u001b[0m\n\u001b[0m",
            "\u001b[0;31mModuleNotFoundError\u001b[0m: No module named 'pororo'",
            "",
            "\u001b[0;31m---------------------------------------------------------------------------\u001b[0;32m\nNOTE: If your import is failing due to a missing package, you can\nmanually install dependencies using either !pip or !apt.\n\nTo view examples of installing some common dependencies, click the\n\"Open Examples\" button below.\n\u001b[0;31m---------------------------------------------------------------------------\u001b[0m\n"
          ],
          "errorDetails": {
            "actions": [
              {
                "action": "open_url",
                "actionText": "Open Examples",
                "url": "/notebooks/snippets/importing_libraries.ipynb"
              }
            ]
          }
        }
      ],
      "source": [
        "from pororo import Pororo"
      ]
    },
    {
      "cell_type": "code",
      "source": [
        "from google.colab import drive\n",
        "drive.mount('/content/drive')"
      ],
      "metadata": {
        "id": "dbQpa0SJPRYS"
      },
      "execution_count": null,
      "outputs": []
    },
    {
      "cell_type": "code",
      "execution_count": null,
      "metadata": {
        "id": "XnYjed1CSXrj",
        "colab": {
          "base_uri": "https://localhost:8080/",
          "height": 77
        },
        "outputId": "33675f74-9b00-4924-e299-390a8819947e"
      },
      "outputs": [
        {
          "output_type": "display_data",
          "data": {
            "text/plain": [
              "<IPython.core.display.HTML object>"
            ],
            "text/html": [
              "\n",
              "     <input type=\"file\" id=\"files-9448260d-c8da-4012-afb2-4cfe55b0474b\" name=\"files[]\" multiple disabled\n",
              "        style=\"border:none\" />\n",
              "     <output id=\"result-9448260d-c8da-4012-afb2-4cfe55b0474b\">\n",
              "      Upload widget is only available when the cell has been executed in the\n",
              "      current browser session. Please rerun this cell to enable.\n",
              "      </output>\n",
              "      <script>// Copyright 2017 Google LLC\n",
              "//\n",
              "// Licensed under the Apache License, Version 2.0 (the \"License\");\n",
              "// you may not use this file except in compliance with the License.\n",
              "// You may obtain a copy of the License at\n",
              "//\n",
              "//      http://www.apache.org/licenses/LICENSE-2.0\n",
              "//\n",
              "// Unless required by applicable law or agreed to in writing, software\n",
              "// distributed under the License is distributed on an \"AS IS\" BASIS,\n",
              "// WITHOUT WARRANTIES OR CONDITIONS OF ANY KIND, either express or implied.\n",
              "// See the License for the specific language governing permissions and\n",
              "// limitations under the License.\n",
              "\n",
              "/**\n",
              " * @fileoverview Helpers for google.colab Python module.\n",
              " */\n",
              "(function(scope) {\n",
              "function span(text, styleAttributes = {}) {\n",
              "  const element = document.createElement('span');\n",
              "  element.textContent = text;\n",
              "  for (const key of Object.keys(styleAttributes)) {\n",
              "    element.style[key] = styleAttributes[key];\n",
              "  }\n",
              "  return element;\n",
              "}\n",
              "\n",
              "// Max number of bytes which will be uploaded at a time.\n",
              "const MAX_PAYLOAD_SIZE = 100 * 1024;\n",
              "\n",
              "function _uploadFiles(inputId, outputId) {\n",
              "  const steps = uploadFilesStep(inputId, outputId);\n",
              "  const outputElement = document.getElementById(outputId);\n",
              "  // Cache steps on the outputElement to make it available for the next call\n",
              "  // to uploadFilesContinue from Python.\n",
              "  outputElement.steps = steps;\n",
              "\n",
              "  return _uploadFilesContinue(outputId);\n",
              "}\n",
              "\n",
              "// This is roughly an async generator (not supported in the browser yet),\n",
              "// where there are multiple asynchronous steps and the Python side is going\n",
              "// to poll for completion of each step.\n",
              "// This uses a Promise to block the python side on completion of each step,\n",
              "// then passes the result of the previous step as the input to the next step.\n",
              "function _uploadFilesContinue(outputId) {\n",
              "  const outputElement = document.getElementById(outputId);\n",
              "  const steps = outputElement.steps;\n",
              "\n",
              "  const next = steps.next(outputElement.lastPromiseValue);\n",
              "  return Promise.resolve(next.value.promise).then((value) => {\n",
              "    // Cache the last promise value to make it available to the next\n",
              "    // step of the generator.\n",
              "    outputElement.lastPromiseValue = value;\n",
              "    return next.value.response;\n",
              "  });\n",
              "}\n",
              "\n",
              "/**\n",
              " * Generator function which is called between each async step of the upload\n",
              " * process.\n",
              " * @param {string} inputId Element ID of the input file picker element.\n",
              " * @param {string} outputId Element ID of the output display.\n",
              " * @return {!Iterable<!Object>} Iterable of next steps.\n",
              " */\n",
              "function* uploadFilesStep(inputId, outputId) {\n",
              "  const inputElement = document.getElementById(inputId);\n",
              "  inputElement.disabled = false;\n",
              "\n",
              "  const outputElement = document.getElementById(outputId);\n",
              "  outputElement.innerHTML = '';\n",
              "\n",
              "  const pickedPromise = new Promise((resolve) => {\n",
              "    inputElement.addEventListener('change', (e) => {\n",
              "      resolve(e.target.files);\n",
              "    });\n",
              "  });\n",
              "\n",
              "  const cancel = document.createElement('button');\n",
              "  inputElement.parentElement.appendChild(cancel);\n",
              "  cancel.textContent = 'Cancel upload';\n",
              "  const cancelPromise = new Promise((resolve) => {\n",
              "    cancel.onclick = () => {\n",
              "      resolve(null);\n",
              "    };\n",
              "  });\n",
              "\n",
              "  // Wait for the user to pick the files.\n",
              "  const files = yield {\n",
              "    promise: Promise.race([pickedPromise, cancelPromise]),\n",
              "    response: {\n",
              "      action: 'starting',\n",
              "    }\n",
              "  };\n",
              "\n",
              "  cancel.remove();\n",
              "\n",
              "  // Disable the input element since further picks are not allowed.\n",
              "  inputElement.disabled = true;\n",
              "\n",
              "  if (!files) {\n",
              "    return {\n",
              "      response: {\n",
              "        action: 'complete',\n",
              "      }\n",
              "    };\n",
              "  }\n",
              "\n",
              "  for (const file of files) {\n",
              "    const li = document.createElement('li');\n",
              "    li.append(span(file.name, {fontWeight: 'bold'}));\n",
              "    li.append(span(\n",
              "        `(${file.type || 'n/a'}) - ${file.size} bytes, ` +\n",
              "        `last modified: ${\n",
              "            file.lastModifiedDate ? file.lastModifiedDate.toLocaleDateString() :\n",
              "                                    'n/a'} - `));\n",
              "    const percent = span('0% done');\n",
              "    li.appendChild(percent);\n",
              "\n",
              "    outputElement.appendChild(li);\n",
              "\n",
              "    const fileDataPromise = new Promise((resolve) => {\n",
              "      const reader = new FileReader();\n",
              "      reader.onload = (e) => {\n",
              "        resolve(e.target.result);\n",
              "      };\n",
              "      reader.readAsArrayBuffer(file);\n",
              "    });\n",
              "    // Wait for the data to be ready.\n",
              "    let fileData = yield {\n",
              "      promise: fileDataPromise,\n",
              "      response: {\n",
              "        action: 'continue',\n",
              "      }\n",
              "    };\n",
              "\n",
              "    // Use a chunked sending to avoid message size limits. See b/62115660.\n",
              "    let position = 0;\n",
              "    do {\n",
              "      const length = Math.min(fileData.byteLength - position, MAX_PAYLOAD_SIZE);\n",
              "      const chunk = new Uint8Array(fileData, position, length);\n",
              "      position += length;\n",
              "\n",
              "      const base64 = btoa(String.fromCharCode.apply(null, chunk));\n",
              "      yield {\n",
              "        response: {\n",
              "          action: 'append',\n",
              "          file: file.name,\n",
              "          data: base64,\n",
              "        },\n",
              "      };\n",
              "\n",
              "      let percentDone = fileData.byteLength === 0 ?\n",
              "          100 :\n",
              "          Math.round((position / fileData.byteLength) * 100);\n",
              "      percent.textContent = `${percentDone}% done`;\n",
              "\n",
              "    } while (position < fileData.byteLength);\n",
              "  }\n",
              "\n",
              "  // All done.\n",
              "  yield {\n",
              "    response: {\n",
              "      action: 'complete',\n",
              "    }\n",
              "  };\n",
              "}\n",
              "\n",
              "scope.google = scope.google || {};\n",
              "scope.google.colab = scope.google.colab || {};\n",
              "scope.google.colab._files = {\n",
              "  _uploadFiles,\n",
              "  _uploadFilesContinue,\n",
              "};\n",
              "})(self);\n",
              "</script> "
            ]
          },
          "metadata": {}
        },
        {
          "output_type": "stream",
          "name": "stdout",
          "text": [
            "Saving 황현상_POSTECH_한줄평.csv to 황현상_POSTECH_한줄평.csv\n"
          ]
        }
      ],
      "source": [
        "from google.colab import files #파일불러오기\n",
        "myfile=files.upload()"
      ]
    },
    {
      "cell_type": "code",
      "source": [
        "def movie_evaluation_predict(sentence):\n",
        "    if len(sentence) == 0:\n",
        "        return \"부정 확률 : %.2f\" % (1)\n",
        "    elif len(sentence) >= 1:\n",
        "        return \"긍정 확률 : %.2f\" % (0)"
      ],
      "metadata": {
        "id": "EgqHr7eJFFX6"
      },
      "execution_count": null,
      "outputs": []
    },
    {
      "cell_type": "code",
      "source": [
        "import pandas as pd\n",
        "import numpy as np\n",
        "import io\n",
        "s = []\n",
        "\n",
        "review=pd.read_csv('감성분석용전체리뷰.csv')\n",
        "for i in range(len(review)):\n",
        "  sentence = review['리뷰'][i]\n",
        "  new_s = [review['리뷰'][i], movie_evaluation_predict(sentence)]\n",
        "  s.append(new_s)\n",
        "df = pd.DataFrame(s, columns=['리뷰','감성분석'])\n",
        "df"
      ],
      "metadata": {
        "colab": {
          "base_uri": "https://localhost:8080/",
          "height": 641
        },
        "id": "KJIo9Qu0U-V0",
        "outputId": "87a674a3-2f0b-4f35-e47f-eb361f594216"
      },
      "execution_count": null,
      "outputs": [
        {
          "output_type": "execute_result",
          "data": {
            "text/plain": [
              "                                                      리뷰          감성분석\n",
              "0                           첫 kcu 강의 퀄리티 떨어지지만 에이쁠 받기 쉬움  긍정 확률 : 0.00\n",
              "1      그저그래요 다른건 다 낫배드했는데 기말고사로는 서술형 1문제가 나왔어요 비중도 제일...  긍정 확률 : 0.00\n",
              "2      기창 강의평 피드백 없고 강의안도 없지만 그래도 할만한 꿀강 퀴즈 2번 + 기말 시...  긍정 확률 : 0.00\n",
              "3      과제 하나도 없고 출석 퀴즈2번 기말1번만 하면됨 퀴즈는 인터넷 서치해야하고 강의록...  긍정 확률 : 0.00\n",
              "4      KCU 5과목 정도 수강했는데 그중에 제일 별로 퀴즈2번 기말고사1번 수업에서 안 ...  긍정 확률 : 0.00\n",
              "...                                                  ...           ...\n",
              "44834  회화 강사 그 이하 밑에 말하는 게 모두 사실 정말 영어과목 줄이던지 제발 영어 따...  긍정 확률 : 0.00\n",
              "44835  c플 나왔습니다 시험이 무슨 2주마다 한번 있는데 준비를 해가나 안해가나 점수는 크...  긍정 확률 : 0.00\n",
              "44836  티쳐 2 그룹2 파트너2 안그래도 다른 과제 때문에 바쁜데 1학점짜리가 제일 바쁨 ...  긍정 확률 : 0.00\n",
              "44837  19년 2학기 들은사람으로서 한마디 하는데 시험은 총6번입니다 티쳐챗2회 그룹챗2회...  긍정 확률 : 0.00\n",
              "44838  가장 인상깊었던건 부담스러운 눈빛 아무래도 회화잘하는 사람 좋아하는 것 같긴 해요 ...  긍정 확률 : 0.00\n",
              "\n",
              "[44839 rows x 2 columns]"
            ],
            "text/html": [
              "\n",
              "  <div id=\"df-51d03ce2-a583-4460-a1ab-29c9ddb4e52e\">\n",
              "    <div class=\"colab-df-container\">\n",
              "      <div>\n",
              "<style scoped>\n",
              "    .dataframe tbody tr th:only-of-type {\n",
              "        vertical-align: middle;\n",
              "    }\n",
              "\n",
              "    .dataframe tbody tr th {\n",
              "        vertical-align: top;\n",
              "    }\n",
              "\n",
              "    .dataframe thead th {\n",
              "        text-align: right;\n",
              "    }\n",
              "</style>\n",
              "<table border=\"1\" class=\"dataframe\">\n",
              "  <thead>\n",
              "    <tr style=\"text-align: right;\">\n",
              "      <th></th>\n",
              "      <th>리뷰</th>\n",
              "      <th>감성분석</th>\n",
              "    </tr>\n",
              "  </thead>\n",
              "  <tbody>\n",
              "    <tr>\n",
              "      <th>0</th>\n",
              "      <td>첫 kcu 강의 퀄리티 떨어지지만 에이쁠 받기 쉬움</td>\n",
              "      <td>긍정 확률 : 0.00</td>\n",
              "    </tr>\n",
              "    <tr>\n",
              "      <th>1</th>\n",
              "      <td>그저그래요 다른건 다 낫배드했는데 기말고사로는 서술형 1문제가 나왔어요 비중도 제일...</td>\n",
              "      <td>긍정 확률 : 0.00</td>\n",
              "    </tr>\n",
              "    <tr>\n",
              "      <th>2</th>\n",
              "      <td>기창 강의평 피드백 없고 강의안도 없지만 그래도 할만한 꿀강 퀴즈 2번 + 기말 시...</td>\n",
              "      <td>긍정 확률 : 0.00</td>\n",
              "    </tr>\n",
              "    <tr>\n",
              "      <th>3</th>\n",
              "      <td>과제 하나도 없고 출석 퀴즈2번 기말1번만 하면됨 퀴즈는 인터넷 서치해야하고 강의록...</td>\n",
              "      <td>긍정 확률 : 0.00</td>\n",
              "    </tr>\n",
              "    <tr>\n",
              "      <th>4</th>\n",
              "      <td>KCU 5과목 정도 수강했는데 그중에 제일 별로 퀴즈2번 기말고사1번 수업에서 안 ...</td>\n",
              "      <td>긍정 확률 : 0.00</td>\n",
              "    </tr>\n",
              "    <tr>\n",
              "      <th>...</th>\n",
              "      <td>...</td>\n",
              "      <td>...</td>\n",
              "    </tr>\n",
              "    <tr>\n",
              "      <th>44834</th>\n",
              "      <td>회화 강사 그 이하 밑에 말하는 게 모두 사실 정말 영어과목 줄이던지 제발 영어 따...</td>\n",
              "      <td>긍정 확률 : 0.00</td>\n",
              "    </tr>\n",
              "    <tr>\n",
              "      <th>44835</th>\n",
              "      <td>c플 나왔습니다 시험이 무슨 2주마다 한번 있는데 준비를 해가나 안해가나 점수는 크...</td>\n",
              "      <td>긍정 확률 : 0.00</td>\n",
              "    </tr>\n",
              "    <tr>\n",
              "      <th>44836</th>\n",
              "      <td>티쳐 2 그룹2 파트너2 안그래도 다른 과제 때문에 바쁜데 1학점짜리가 제일 바쁨 ...</td>\n",
              "      <td>긍정 확률 : 0.00</td>\n",
              "    </tr>\n",
              "    <tr>\n",
              "      <th>44837</th>\n",
              "      <td>19년 2학기 들은사람으로서 한마디 하는데 시험은 총6번입니다 티쳐챗2회 그룹챗2회...</td>\n",
              "      <td>긍정 확률 : 0.00</td>\n",
              "    </tr>\n",
              "    <tr>\n",
              "      <th>44838</th>\n",
              "      <td>가장 인상깊었던건 부담스러운 눈빛 아무래도 회화잘하는 사람 좋아하는 것 같긴 해요 ...</td>\n",
              "      <td>긍정 확률 : 0.00</td>\n",
              "    </tr>\n",
              "  </tbody>\n",
              "</table>\n",
              "<p>44839 rows × 2 columns</p>\n",
              "</div>\n",
              "      <button class=\"colab-df-convert\" onclick=\"convertToInteractive('df-51d03ce2-a583-4460-a1ab-29c9ddb4e52e')\"\n",
              "              title=\"Convert this dataframe to an interactive table.\"\n",
              "              style=\"display:none;\">\n",
              "        \n",
              "  <svg xmlns=\"http://www.w3.org/2000/svg\" height=\"24px\"viewBox=\"0 0 24 24\"\n",
              "       width=\"24px\">\n",
              "    <path d=\"M0 0h24v24H0V0z\" fill=\"none\"/>\n",
              "    <path d=\"M18.56 5.44l.94 2.06.94-2.06 2.06-.94-2.06-.94-.94-2.06-.94 2.06-2.06.94zm-11 1L8.5 8.5l.94-2.06 2.06-.94-2.06-.94L8.5 2.5l-.94 2.06-2.06.94zm10 10l.94 2.06.94-2.06 2.06-.94-2.06-.94-.94-2.06-.94 2.06-2.06.94z\"/><path d=\"M17.41 7.96l-1.37-1.37c-.4-.4-.92-.59-1.43-.59-.52 0-1.04.2-1.43.59L10.3 9.45l-7.72 7.72c-.78.78-.78 2.05 0 2.83L4 21.41c.39.39.9.59 1.41.59.51 0 1.02-.2 1.41-.59l7.78-7.78 2.81-2.81c.8-.78.8-2.07 0-2.86zM5.41 20L4 18.59l7.72-7.72 1.47 1.35L5.41 20z\"/>\n",
              "  </svg>\n",
              "      </button>\n",
              "      \n",
              "  <style>\n",
              "    .colab-df-container {\n",
              "      display:flex;\n",
              "      flex-wrap:wrap;\n",
              "      gap: 12px;\n",
              "    }\n",
              "\n",
              "    .colab-df-convert {\n",
              "      background-color: #E8F0FE;\n",
              "      border: none;\n",
              "      border-radius: 50%;\n",
              "      cursor: pointer;\n",
              "      display: none;\n",
              "      fill: #1967D2;\n",
              "      height: 32px;\n",
              "      padding: 0 0 0 0;\n",
              "      width: 32px;\n",
              "    }\n",
              "\n",
              "    .colab-df-convert:hover {\n",
              "      background-color: #E2EBFA;\n",
              "      box-shadow: 0px 1px 2px rgba(60, 64, 67, 0.3), 0px 1px 3px 1px rgba(60, 64, 67, 0.15);\n",
              "      fill: #174EA6;\n",
              "    }\n",
              "\n",
              "    [theme=dark] .colab-df-convert {\n",
              "      background-color: #3B4455;\n",
              "      fill: #D2E3FC;\n",
              "    }\n",
              "\n",
              "    [theme=dark] .colab-df-convert:hover {\n",
              "      background-color: #434B5C;\n",
              "      box-shadow: 0px 1px 3px 1px rgba(0, 0, 0, 0.15);\n",
              "      filter: drop-shadow(0px 1px 2px rgba(0, 0, 0, 0.3));\n",
              "      fill: #FFFFFF;\n",
              "    }\n",
              "  </style>\n",
              "\n",
              "      <script>\n",
              "        const buttonEl =\n",
              "          document.querySelector('#df-51d03ce2-a583-4460-a1ab-29c9ddb4e52e button.colab-df-convert');\n",
              "        buttonEl.style.display =\n",
              "          google.colab.kernel.accessAllowed ? 'block' : 'none';\n",
              "\n",
              "        async function convertToInteractive(key) {\n",
              "          const element = document.querySelector('#df-51d03ce2-a583-4460-a1ab-29c9ddb4e52e');\n",
              "          const dataTable =\n",
              "            await google.colab.kernel.invokeFunction('convertToInteractive',\n",
              "                                                     [key], {});\n",
              "          if (!dataTable) return;\n",
              "\n",
              "          const docLinkHtml = 'Like what you see? Visit the ' +\n",
              "            '<a target=\"_blank\" href=https://colab.research.google.com/notebooks/data_table.ipynb>data table notebook</a>'\n",
              "            + ' to learn more about interactive tables.';\n",
              "          element.innerHTML = '';\n",
              "          dataTable['output_type'] = 'display_data';\n",
              "          await google.colab.output.renderOutput(dataTable, element);\n",
              "          const docLink = document.createElement('div');\n",
              "          docLink.innerHTML = docLinkHtml;\n",
              "          element.appendChild(docLink);\n",
              "        }\n",
              "      </script>\n",
              "    </div>\n",
              "  </div>\n",
              "  "
            ]
          },
          "metadata": {},
          "execution_count": 46
        }
      ]
    },
    {
      "cell_type": "code",
      "source": [
        "df.to_excel('감성분석.xlsx',index=False) #엑셀로 추출"
      ],
      "metadata": {
        "id": "8SXg6alJL4AW"
      },
      "execution_count": null,
      "outputs": []
    },
    {
      "cell_type": "code",
      "source": [
        "sa=Pororo(task='sentiment',lang='ko') # 한국어 형태로 분석\n",
        "\n",
        "pos_prob, neg_prob=0.0, 0.0\n",
        "for comment in review1['황현상_교수_POSTECH']: #리뷰내용 칼럼에 있는 리뷰들 분석\n",
        "  sa_result=sa(comment[0],show_probs=True)\n"
      ],
      "metadata": {
        "id": "eBs7uBYgV3sF"
      },
      "execution_count": null,
      "outputs": []
    },
    {
      "cell_type": "code",
      "source": [],
      "metadata": {
        "id": "CI8ZUub9FEoi"
      },
      "execution_count": null,
      "outputs": []
    },
    {
      "cell_type": "code",
      "source": [
        "sa = Pororo(task=\"sentiment\", model=\"brainbert.base.ko.shopping\", lang=\"ko\")\n",
        "#감성분석"
      ],
      "metadata": {
        "id": "gIBGwhZEV5Aq"
      },
      "execution_count": null,
      "outputs": []
    },
    {
      "cell_type": "code",
      "source": [
        "df=review1['황현상_교수_POSTECH'] #평가내용만 출력함\n",
        "df.head()"
      ],
      "metadata": {
        "colab": {
          "base_uri": "https://localhost:8080/"
        },
        "id": "jSjwRAg2V6MS",
        "outputId": "696f4866-96d5-4100-c56f-0821c5008fed"
      },
      "execution_count": null,
      "outputs": [
        {
          "output_type": "execute_result",
          "data": {
            "text/plain": [
              "0                                                  ...\n",
              "1    학생들에게 존대 하시는 최고의 인품을 지닌 교수님. 회사 다니는 착각이 드는 인건비...\n",
              "2                                           Bubble PoP\n",
              "3                                                  ...\n",
              "4    타학교 타과에서 온 학생도 의지만 있으면 잘 적응할 수 있는 연구환경입니다. 교수님...\n",
              "Name: 황현상_교수_POSTECH, dtype: object"
            ]
          },
          "metadata": {},
          "execution_count": 383
        }
      ]
    },
    {
      "cell_type": "code",
      "source": [
        "x=[] # 결과를 담기 위해 리스트 형태로 사전에 저장함\n",
        "y=[] # 결과를 담기 위해 리스트 형태로 사전에 저장함\n",
        "for r in range(0,len(review1)): #처음부터 끝까지 긍정인 후기와 부정인 후기를 분류함\n",
        "  result_dict=sa(df[r],show_probs=True)\n",
        "\n",
        "  neg_prob=result_dict['negative'] # Negative인 경우 neg_prob에 포함\n",
        "  pos_prob=result_dict['positive'] # Positive인 경우 pos_prob에 포함\n",
        "\n",
        "  x.append(pos_prob) # pos_prob에 하나씩 추가\n",
        "  x\n",
        "  y.append(neg_prob) # neg_prob에 하나씩 추가\n",
        "  y"
      ],
      "metadata": {
        "id": "acTEB9ZBV7jB"
      },
      "execution_count": null,
      "outputs": []
    },
    {
      "cell_type": "code",
      "source": [
        "review1['긍정확률']=x\n",
        "review1['부정확률']=y\n",
        "\n",
        "review1['최종판단']=review1.apply(lambda i : 'Positive' if i['긍정확률']>i['부정확률'] else 'Negative',axis=1 )\n",
        " # 긍정확률 > 부정확률이면 Positive, 부정확률 > 긍정확률은 Negative 출력\n",
        "review1.head()"
      ],
      "metadata": {
        "colab": {
          "base_uri": "https://localhost:8080/",
          "height": 206
        },
        "id": "w5YoCYR1V8w-",
        "outputId": "5d905dc1-aace-4099-d7ee-4ce429df5161"
      },
      "execution_count": null,
      "outputs": [
        {
          "output_type": "execute_result",
          "data": {
            "text/plain": [
              "                                      황현상_교수_POSTECH      긍정확률      부정확률  \\\n",
              "0                                                ...  0.047116  0.952884   \n",
              "1  학생들에게 존대 하시는 최고의 인품을 지닌 교수님. 회사 다니는 착각이 드는 인건비...  0.989955  0.010045   \n",
              "2                                         Bubble PoP  0.176298  0.823702   \n",
              "3                                                ...  0.047116  0.952884   \n",
              "4  타학교 타과에서 온 학생도 의지만 있으면 잘 적응할 수 있는 연구환경입니다. 교수님...  0.991943  0.008057   \n",
              "\n",
              "       최종판단  \n",
              "0  Negative  \n",
              "1  Positive  \n",
              "2  Negative  \n",
              "3  Negative  \n",
              "4  Positive  "
            ],
            "text/html": [
              "\n",
              "  <div id=\"df-570edb74-28df-44d6-93fb-1fd074153754\">\n",
              "    <div class=\"colab-df-container\">\n",
              "      <div>\n",
              "<style scoped>\n",
              "    .dataframe tbody tr th:only-of-type {\n",
              "        vertical-align: middle;\n",
              "    }\n",
              "\n",
              "    .dataframe tbody tr th {\n",
              "        vertical-align: top;\n",
              "    }\n",
              "\n",
              "    .dataframe thead th {\n",
              "        text-align: right;\n",
              "    }\n",
              "</style>\n",
              "<table border=\"1\" class=\"dataframe\">\n",
              "  <thead>\n",
              "    <tr style=\"text-align: right;\">\n",
              "      <th></th>\n",
              "      <th>황현상_교수_POSTECH</th>\n",
              "      <th>긍정확률</th>\n",
              "      <th>부정확률</th>\n",
              "      <th>최종판단</th>\n",
              "    </tr>\n",
              "  </thead>\n",
              "  <tbody>\n",
              "    <tr>\n",
              "      <th>0</th>\n",
              "      <td>...</td>\n",
              "      <td>0.047116</td>\n",
              "      <td>0.952884</td>\n",
              "      <td>Negative</td>\n",
              "    </tr>\n",
              "    <tr>\n",
              "      <th>1</th>\n",
              "      <td>학생들에게 존대 하시는 최고의 인품을 지닌 교수님. 회사 다니는 착각이 드는 인건비...</td>\n",
              "      <td>0.989955</td>\n",
              "      <td>0.010045</td>\n",
              "      <td>Positive</td>\n",
              "    </tr>\n",
              "    <tr>\n",
              "      <th>2</th>\n",
              "      <td>Bubble PoP</td>\n",
              "      <td>0.176298</td>\n",
              "      <td>0.823702</td>\n",
              "      <td>Negative</td>\n",
              "    </tr>\n",
              "    <tr>\n",
              "      <th>3</th>\n",
              "      <td>...</td>\n",
              "      <td>0.047116</td>\n",
              "      <td>0.952884</td>\n",
              "      <td>Negative</td>\n",
              "    </tr>\n",
              "    <tr>\n",
              "      <th>4</th>\n",
              "      <td>타학교 타과에서 온 학생도 의지만 있으면 잘 적응할 수 있는 연구환경입니다. 교수님...</td>\n",
              "      <td>0.991943</td>\n",
              "      <td>0.008057</td>\n",
              "      <td>Positive</td>\n",
              "    </tr>\n",
              "  </tbody>\n",
              "</table>\n",
              "</div>\n",
              "      <button class=\"colab-df-convert\" onclick=\"convertToInteractive('df-570edb74-28df-44d6-93fb-1fd074153754')\"\n",
              "              title=\"Convert this dataframe to an interactive table.\"\n",
              "              style=\"display:none;\">\n",
              "        \n",
              "  <svg xmlns=\"http://www.w3.org/2000/svg\" height=\"24px\"viewBox=\"0 0 24 24\"\n",
              "       width=\"24px\">\n",
              "    <path d=\"M0 0h24v24H0V0z\" fill=\"none\"/>\n",
              "    <path d=\"M18.56 5.44l.94 2.06.94-2.06 2.06-.94-2.06-.94-.94-2.06-.94 2.06-2.06.94zm-11 1L8.5 8.5l.94-2.06 2.06-.94-2.06-.94L8.5 2.5l-.94 2.06-2.06.94zm10 10l.94 2.06.94-2.06 2.06-.94-2.06-.94-.94-2.06-.94 2.06-2.06.94z\"/><path d=\"M17.41 7.96l-1.37-1.37c-.4-.4-.92-.59-1.43-.59-.52 0-1.04.2-1.43.59L10.3 9.45l-7.72 7.72c-.78.78-.78 2.05 0 2.83L4 21.41c.39.39.9.59 1.41.59.51 0 1.02-.2 1.41-.59l7.78-7.78 2.81-2.81c.8-.78.8-2.07 0-2.86zM5.41 20L4 18.59l7.72-7.72 1.47 1.35L5.41 20z\"/>\n",
              "  </svg>\n",
              "      </button>\n",
              "      \n",
              "  <style>\n",
              "    .colab-df-container {\n",
              "      display:flex;\n",
              "      flex-wrap:wrap;\n",
              "      gap: 12px;\n",
              "    }\n",
              "\n",
              "    .colab-df-convert {\n",
              "      background-color: #E8F0FE;\n",
              "      border: none;\n",
              "      border-radius: 50%;\n",
              "      cursor: pointer;\n",
              "      display: none;\n",
              "      fill: #1967D2;\n",
              "      height: 32px;\n",
              "      padding: 0 0 0 0;\n",
              "      width: 32px;\n",
              "    }\n",
              "\n",
              "    .colab-df-convert:hover {\n",
              "      background-color: #E2EBFA;\n",
              "      box-shadow: 0px 1px 2px rgba(60, 64, 67, 0.3), 0px 1px 3px 1px rgba(60, 64, 67, 0.15);\n",
              "      fill: #174EA6;\n",
              "    }\n",
              "\n",
              "    [theme=dark] .colab-df-convert {\n",
              "      background-color: #3B4455;\n",
              "      fill: #D2E3FC;\n",
              "    }\n",
              "\n",
              "    [theme=dark] .colab-df-convert:hover {\n",
              "      background-color: #434B5C;\n",
              "      box-shadow: 0px 1px 3px 1px rgba(0, 0, 0, 0.15);\n",
              "      filter: drop-shadow(0px 1px 2px rgba(0, 0, 0, 0.3));\n",
              "      fill: #FFFFFF;\n",
              "    }\n",
              "  </style>\n",
              "\n",
              "      <script>\n",
              "        const buttonEl =\n",
              "          document.querySelector('#df-570edb74-28df-44d6-93fb-1fd074153754 button.colab-df-convert');\n",
              "        buttonEl.style.display =\n",
              "          google.colab.kernel.accessAllowed ? 'block' : 'none';\n",
              "\n",
              "        async function convertToInteractive(key) {\n",
              "          const element = document.querySelector('#df-570edb74-28df-44d6-93fb-1fd074153754');\n",
              "          const dataTable =\n",
              "            await google.colab.kernel.invokeFunction('convertToInteractive',\n",
              "                                                     [key], {});\n",
              "          if (!dataTable) return;\n",
              "\n",
              "          const docLinkHtml = 'Like what you see? Visit the ' +\n",
              "            '<a target=\"_blank\" href=https://colab.research.google.com/notebooks/data_table.ipynb>data table notebook</a>'\n",
              "            + ' to learn more about interactive tables.';\n",
              "          element.innerHTML = '';\n",
              "          dataTable['output_type'] = 'display_data';\n",
              "          await google.colab.output.renderOutput(dataTable, element);\n",
              "          const docLink = document.createElement('div');\n",
              "          docLink.innerHTML = docLinkHtml;\n",
              "          element.appendChild(docLink);\n",
              "        }\n",
              "      </script>\n",
              "    </div>\n",
              "  </div>\n",
              "  "
            ]
          },
          "metadata": {},
          "execution_count": 385
        }
      ]
    },
    {
      "cell_type": "code",
      "source": [
        "review1.to_excel('황현상_교수_POSTECH_감성분석.xlsx',index=False) #엑셀로 추출"
      ],
      "metadata": {
        "id": "-hLyIiEKV-H9"
      },
      "execution_count": null,
      "outputs": []
    },
    {
      "cell_type": "code",
      "source": [],
      "metadata": {
        "id": "ercmbUNyuSf8"
      },
      "execution_count": null,
      "outputs": []
    }
  ],
  "metadata": {
    "colab": {
      "provenance": []
    },
    "kernelspec": {
      "display_name": "Python 3 (ipykernel)",
      "language": "python",
      "name": "python3"
    },
    "language_info": {
      "codemirror_mode": {
        "name": "ipython",
        "version": 3
      },
      "file_extension": ".py",
      "mimetype": "text/x-python",
      "name": "python",
      "nbconvert_exporter": "python",
      "pygments_lexer": "ipython3",
      "version": "3.9.12"
    }
  },
  "nbformat": 4,
  "nbformat_minor": 0
}